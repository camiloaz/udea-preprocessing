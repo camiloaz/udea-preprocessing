{
 "cells": [
  {
   "cell_type": "code",
   "execution_count": 2,
   "metadata": {},
   "outputs": [],
   "source": [
    "import json\n",
    "import matplotlib.pyplot as plt\n",
    "import numpy as np"
   ]
  },
  {
   "cell_type": "code",
   "execution_count": 3,
   "metadata": {},
   "outputs": [],
   "source": [
    "with open('./datasets/ships-data/shipsnet.json') as json_data:\n",
    "    d = json.load(json_data)"
   ]
  },
  {
   "cell_type": "code",
   "execution_count": 4,
   "metadata": {},
   "outputs": [
    {
     "data": {
      "text/plain": [
       "array([0, 1])"
      ]
     },
     "execution_count": 4,
     "metadata": {},
     "output_type": "execute_result"
    }
   ],
   "source": [
    "np.unique(d['labels'])"
   ]
  },
  {
   "cell_type": "code",
   "execution_count": 5,
   "metadata": {},
   "outputs": [
    {
     "data": {
      "text/plain": [
       "<matplotlib.image.AxesImage at 0x12c07d7f0>"
      ]
     },
     "execution_count": 5,
     "metadata": {},
     "output_type": "execute_result"
    },
    {
     "data": {
      "image/png": "[encoded data removed]",
      "text/plain": [
       "<Figure size 432x288 with 1 Axes>"
      ]
     },
     "metadata": {
      "needs_background": "light"
     },
     "output_type": "display_data"
    }
   ],
   "source": [
    "ii = 5\n",
    "img = np.array([[r,g,b] for r,g,b in zip(d['data'][ii][0:6400],d['data'][ii][6400:12800],d['data'][ii][:12800])]).reshape([80,80,3])\n",
    "plt.imshow(img)"
   ]
  },
  {
   "cell_type": "code",
   "execution_count": 6,
   "metadata": {},
   "outputs": [],
   "source": [
    "data = []\n",
    "for fimg in d['data']:\n",
    "    data.append(np.array([[fimg[ii],fimg[ii+6400],fimg[ii+12800]] for ii in range(len(fimg)//3)], dtype=np.uint8).reshape([80,80,3]))"
   ]
  },
  {
   "cell_type": "code",
   "execution_count": 7,
   "metadata": {},
   "outputs": [],
   "source": [
    "zdata = list(zip(data,d[\"labels\"]))\n",
    "random.shuffle(zdata)\n",
    "data, labels = zip(*zdata)"
   ]
  },
  {
   "cell_type": "code",
   "execution_count": 89,
   "metadata": {},
   "outputs": [],
   "source": [
    "# Split the data\n",
    "train_data = np.array(data[0:3500], dtype=np.float32)\n",
    "test_data = np.array(data[3500:], dtype=np.float32)\n",
    "train_labels = np.array(labels[0:3500])\n",
    "test_labels = np.array(labels[3500:])"
   ]
  },
  {
   "cell_type": "code",
   "execution_count": 8,
   "metadata": {},
   "outputs": [],
   "source": [
    "import tensorflow as tf"
   ]
  },
  {
   "cell_type": "code",
   "execution_count": 9,
   "metadata": {},
   "outputs": [],
   "source": [
    "# Training Parameters\n",
    "learning_rate = 0.001\n",
    "num_steps = 2000\n",
    "batch_size = 128\n",
    "\n",
    "# Network Parameters\n",
    "num_input = 4000 \n",
    "num_classes = 2\n",
    "dropout = 0.4"
   ]
  },
  {
   "cell_type": "code",
   "execution_count": 10,
   "metadata": {},
   "outputs": [],
   "source": [
    "# Create the neural network\n",
    "def conv_net(x_dict, n_classes, dropout, reuse, is_training):\n",
    "    # Define a scope for reusing the variables\n",
    "    with tf.variable_scope('ConvNet', reuse=reuse):\n",
    "        # TF Estimator input is a dict, in case of multiple inputs\n",
    "        x = x_dict['images']\n",
    "\n",
    "        # Convolution Layer with 32 filters and a kernel size of 5\n",
    "        conv1 = tf.layers.conv2d(x, 32, 5, activation=tf.nn.relu)\n",
    "        # Max Pooling (down-sampling) with strides of 2 and kernel size of 2\n",
    "        conv1 = tf.layers.max_pooling2d(conv1, 2, 2)\n",
    "\n",
    "        # Convolution Layer with 64 filters and a kernel size of 3\n",
    "        conv2 = tf.layers.conv2d(conv1, 64, 3, activation=tf.nn.relu)\n",
    "        # Max Pooling (down-sampling) with strides of 2 and kernel size of 2\n",
    "        conv2 = tf.layers.max_pooling2d(conv2, 2, 2)\n",
    "\n",
    "        # Flatten the data to a 1-D vector for the fully connected layer\n",
    "        fc1 = tf.contrib.layers.flatten(conv2)\n",
    "\n",
    "        # Fully connected layer (in tf contrib folder for now)\n",
    "        fc1 = tf.layers.dense(fc1, 1024)\n",
    "        # Apply Dropout (if is_training is False, dropout is not applied)\n",
    "        fc1 = tf.layers.dropout(fc1, rate=dropout, training=is_training)\n",
    "\n",
    "        # Output layer, class prediction\n",
    "        out = tf.layers.dense(fc1, n_classes)\n",
    "\n",
    "    return out"
   ]
  },
  {
   "cell_type": "code",
   "execution_count": 11,
   "metadata": {},
   "outputs": [],
   "source": [
    "# Define the model function (following TF Estimator Template)\n",
    "def model_fn(features, labels, mode):\n",
    "    # Build the neural network\n",
    "    # Because Dropout have different behavior at training and prediction time, we\n",
    "    # need to create 2 distinct computation graphs that still share the same weights.\n",
    "    logits_train = conv_net(features, num_classes, dropout, reuse=False,\n",
    "                            is_training=True)\n",
    "    logits_test = conv_net(features, num_classes, dropout, reuse=True,\n",
    "                           is_training=False)\n",
    "\n",
    "    # Predictions\n",
    "    pred_classes = tf.argmax(logits_test, axis=1)\n",
    "    pred_probas = tf.nn.softmax(logits_test)\n",
    "\n",
    "    # If prediction mode, early return\n",
    "    if mode == tf.estimator.ModeKeys.PREDICT:\n",
    "        return tf.estimator.EstimatorSpec(mode, predictions=pred_classes)\n",
    "\n",
    "        # Define loss and optimizer\n",
    "    loss_op = tf.reduce_mean(tf.nn.sparse_softmax_cross_entropy_with_logits(\n",
    "        logits=logits_train, labels=tf.cast(labels, dtype=tf.int32)))\n",
    "    optimizer = tf.train.AdamOptimizer(learning_rate=learning_rate)\n",
    "    train_op = optimizer.minimize(loss_op,\n",
    "                                  global_step=tf.train.get_global_step())\n",
    "\n",
    "    # Evaluate the accuracy of the model\n",
    "    acc_op = tf.metrics.accuracy(labels=labels, predictions=pred_classes)\n",
    "\n",
    "    # TF Estimators requires to return a EstimatorSpec, that specify\n",
    "    # the different ops for training, evaluating, ...\n",
    "    estim_specs = tf.estimator.EstimatorSpec(\n",
    "        mode=mode,\n",
    "        predictions=pred_classes,\n",
    "        loss=loss_op,\n",
    "        train_op=train_op,\n",
    "        eval_metric_ops={'accuracy': acc_op})\n",
    "\n",
    "    return estim_specs"
   ]
  },
  {
   "cell_type": "code",
   "execution_count": 12,
   "metadata": {},
   "outputs": [],
   "source": [
    "def train(tdata, tlabels, tsdata, tslabels):\n",
    "    # Build the Estimator\n",
    "    model = tf.estimator.Estimator(model_fn)\n",
    "\n",
    "    # Define the input function for training\n",
    "    input_fn = tf.estimator.inputs.numpy_input_fn(\n",
    "        x={'images': tdata}, y=np.array(tlabels),\n",
    "        batch_size=batch_size, num_epochs=None, shuffle=True)\n",
    "    # Train the Model\n",
    "    model.train(input_fn, steps=num_steps)\n",
    "\n",
    "    # Evaluate the Model\n",
    "    # Define the input function for evaluating\n",
    "    input_fn = tf.estimator.inputs.numpy_input_fn(\n",
    "        x={'images': tsdata}, y=tslabels,\n",
    "        batch_size=batch_size, shuffle=False)\n",
    "    # Use the Estimator 'evaluate' method\n",
    "    e = model.evaluate(input_fn)\n",
    "\n",
    "    print(\"Testing Accuracy:\", e['accuracy'])"
   ]
  },
  {
   "cell_type": "code",
   "execution_count": 90,
   "metadata": {},
   "outputs": [
    {
     "name": "stdout",
     "output_type": "stream",
     "text": [
      "INFO:tensorflow:Using default config.\n",
      "WARNING:tensorflow:Using temporary folder as model directory: /var/folders/jl/pc72bld16gn0mlgq604hqjt00000gn/T/tmp4o0z2eii\n",
      "INFO:tensorflow:Using config: {'_model_dir': '/var/folders/jl/pc72bld16gn0mlgq604hqjt00000gn/T/tmp4o0z2eii', '_tf_random_seed': None, '_save_summary_steps': 100, '_save_checkpoints_steps': None, '_save_checkpoints_secs': 600, '_session_config': allow_soft_placement: true\n",
      "graph_options {\n",
      "  rewrite_options {\n",
      "    meta_optimizer_iterations: ONE\n",
      "  }\n",
      "}\n",
      ", '_keep_checkpoint_max': 5, '_keep_checkpoint_every_n_hours': 10000, '_log_step_count_steps': 100, '_train_distribute': None, '_device_fn': None, '_protocol': None, '_eval_distribute': None, '_experimental_distribute': None, '_service': None, '_cluster_spec': <tensorflow.python.training.server_lib.ClusterSpec object at 0x16b342240>, '_task_type': 'worker', '_task_id': 0, '_global_id_in_cluster': 0, '_master': '', '_evaluation_master': '', '_is_chief': True, '_num_ps_replicas': 0, '_num_worker_replicas': 1}\n",
      "INFO:tensorflow:Calling model_fn.\n",
      "INFO:tensorflow:Done calling model_fn.\n",
      "INFO:tensorflow:Create CheckpointSaverHook.\n",
      "INFO:tensorflow:Graph was finalized.\n",
      "INFO:tensorflow:Running local_init_op.\n",
      "INFO:tensorflow:Done running local_init_op.\n",
      "INFO:tensorflow:Saving checkpoints for 0 into /var/folders/jl/pc72bld16gn0mlgq604hqjt00000gn/T/tmp4o0z2eii/model.ckpt.\n",
      "INFO:tensorflow:loss = 14.472824, step = 1\n",
      "INFO:tensorflow:global_step/sec: 1.19481\n",
      "INFO:tensorflow:loss = 0.96502596, step = 101 (83.697 sec)\n",
      "INFO:tensorflow:global_step/sec: 1.15786\n",
      "INFO:tensorflow:loss = 0.13547985, step = 201 (86.367 sec)\n",
      "INFO:tensorflow:global_step/sec: 1.20306\n",
      "INFO:tensorflow:loss = 0.0016391039, step = 301 (83.121 sec)\n",
      "INFO:tensorflow:global_step/sec: 1.20201\n",
      "INFO:tensorflow:loss = 0.03370301, step = 401 (83.196 sec)\n",
      "INFO:tensorflow:global_step/sec: 1.18726\n",
      "INFO:tensorflow:loss = 0.017777167, step = 501 (84.226 sec)\n",
      "INFO:tensorflow:global_step/sec: 1.19762\n",
      "INFO:tensorflow:loss = 0.0011696878, step = 601 (83.501 sec)\n",
      "INFO:tensorflow:global_step/sec: 1.18869\n",
      "INFO:tensorflow:loss = 0.00033644424, step = 701 (84.124 sec)\n",
      "INFO:tensorflow:Saving checkpoints for 715 into /var/folders/jl/pc72bld16gn0mlgq604hqjt00000gn/T/tmp4o0z2eii/model.ckpt.\n",
      "INFO:tensorflow:global_step/sec: 1.19684\n",
      "INFO:tensorflow:loss = 0.0005111187, step = 801 (83.555 sec)\n",
      "INFO:tensorflow:global_step/sec: 1.15118\n",
      "INFO:tensorflow:loss = 6.9591486e-05, step = 901 (86.866 sec)\n",
      "INFO:tensorflow:global_step/sec: 1.1699\n",
      "INFO:tensorflow:loss = 0.00012352684, step = 1001 (85.479 sec)\n",
      "INFO:tensorflow:global_step/sec: 1.17385\n",
      "INFO:tensorflow:loss = 6.4303e-05, step = 1101 (85.188 sec)\n",
      "INFO:tensorflow:global_step/sec: 1.18743\n",
      "INFO:tensorflow:loss = 0.00014900023, step = 1201 (84.215 sec)\n",
      "INFO:tensorflow:global_step/sec: 1.19667\n",
      "INFO:tensorflow:loss = 0.00029952306, step = 1301 (83.566 sec)\n",
      "INFO:tensorflow:global_step/sec: 1.13729\n",
      "INFO:tensorflow:loss = 0.00022115381, step = 1401 (87.929 sec)\n",
      "INFO:tensorflow:Saving checkpoints for 1418 into /var/folders/jl/pc72bld16gn0mlgq604hqjt00000gn/T/tmp4o0z2eii/model.ckpt.\n",
      "INFO:tensorflow:global_step/sec: 1.1617\n",
      "INFO:tensorflow:loss = 0.00014873651, step = 1501 (86.081 sec)\n",
      "INFO:tensorflow:global_step/sec: 1.19827\n",
      "INFO:tensorflow:loss = 3.1698604e-05, step = 1601 (83.455 sec)\n",
      "INFO:tensorflow:global_step/sec: 1.20356\n",
      "INFO:tensorflow:loss = 3.8865735e-05, step = 1701 (83.085 sec)\n",
      "INFO:tensorflow:global_step/sec: 1.20005\n",
      "INFO:tensorflow:loss = 9.158908e-05, step = 1801 (83.330 sec)\n",
      "INFO:tensorflow:global_step/sec: 1.19341\n",
      "INFO:tensorflow:loss = 1.1373646e-05, step = 1901 (83.793 sec)\n",
      "INFO:tensorflow:Saving checkpoints for 2000 into /var/folders/jl/pc72bld16gn0mlgq604hqjt00000gn/T/tmp4o0z2eii/model.ckpt.\n",
      "INFO:tensorflow:Loss for final step: 9.023423e-06.\n",
      "INFO:tensorflow:Calling model_fn.\n",
      "INFO:tensorflow:Done calling model_fn.\n",
      "INFO:tensorflow:Starting evaluation at 2018-09-28-15:32:22\n",
      "INFO:tensorflow:Graph was finalized.\n",
      "INFO:tensorflow:Restoring parameters from /var/folders/jl/pc72bld16gn0mlgq604hqjt00000gn/T/tmp4o0z2eii/model.ckpt-2000\n",
      "INFO:tensorflow:Running local_init_op.\n",
      "INFO:tensorflow:Done running local_init_op.\n",
      "INFO:tensorflow:Finished evaluation at 2018-09-28-15:32:23\n",
      "INFO:tensorflow:Saving dict for global step 2000: accuracy = 0.972, global_step = 2000, loss = 0.36403567\n",
      "INFO:tensorflow:Saving 'checkpoint_path' summary for global step 2000: /var/folders/jl/pc72bld16gn0mlgq604hqjt00000gn/T/tmp4o0z2eii/model.ckpt-2000\n",
      "Testing Accuracy: 0.972\n"
     ]
    }
   ],
   "source": [
    "train(train_data, train_labels, test_data, test_labels)"
   ]
  },
  {
   "cell_type": "code",
   "execution_count": 14,
   "metadata": {},
   "outputs": [],
   "source": [
    "import cv2"
   ]
  },
  {
   "cell_type": "code",
   "execution_count": 15,
   "metadata": {},
   "outputs": [],
   "source": [
    "gray_data = []\n",
    "for image in data:\n",
    "    gray_data.append(cv2.cvtColor(image, cv2.COLOR_RGB2GRAY))"
   ]
  },
  {
   "cell_type": "code",
   "execution_count": 16,
   "metadata": {},
   "outputs": [],
   "source": [
    "# Split the data\n",
    "gray_train_data = np.array(data[0:3500], dtype=np.float32)\n",
    "gray_test_data = np.array(data[3500:], dtype=np.float32)\n",
    "gray_train_labels = np.array(labels[0:3500])\n",
    "gray_test_labels = np.array(labels[3500:])"
   ]
  },
  {
   "cell_type": "code",
   "execution_count": 17,
   "metadata": {},
   "outputs": [
    {
     "name": "stdout",
     "output_type": "stream",
     "text": [
      "INFO:tensorflow:Using default config.\n",
      "WARNING:tensorflow:Using temporary folder as model directory: /var/folders/jl/pc72bld16gn0mlgq604hqjt00000gn/T/tmp2_9z834f\n",
      "INFO:tensorflow:Using config: {'_model_dir': '/var/folders/jl/pc72bld16gn0mlgq604hqjt00000gn/T/tmp2_9z834f', '_tf_random_seed': None, '_save_summary_steps': 100, '_save_checkpoints_steps': None, '_save_checkpoints_secs': 600, '_session_config': allow_soft_placement: true\n",
      "graph_options {\n",
      "  rewrite_options {\n",
      "    meta_optimizer_iterations: ONE\n",
      "  }\n",
      "}\n",
      ", '_keep_checkpoint_max': 5, '_keep_checkpoint_every_n_hours': 10000, '_log_step_count_steps': 100, '_train_distribute': None, '_device_fn': None, '_protocol': None, '_eval_distribute': None, '_experimental_distribute': None, '_service': None, '_cluster_spec': <tensorflow.python.training.server_lib.ClusterSpec object at 0x179d7c3c8>, '_task_type': 'worker', '_task_id': 0, '_global_id_in_cluster': 0, '_master': '', '_evaluation_master': '', '_is_chief': True, '_num_ps_replicas': 0, '_num_worker_replicas': 1}\n",
      "INFO:tensorflow:Calling model_fn.\n",
      "INFO:tensorflow:Done calling model_fn.\n",
      "INFO:tensorflow:Create CheckpointSaverHook.\n",
      "INFO:tensorflow:Graph was finalized.\n",
      "INFO:tensorflow:Running local_init_op.\n",
      "INFO:tensorflow:Done running local_init_op.\n",
      "INFO:tensorflow:Saving checkpoints for 0 into /var/folders/jl/pc72bld16gn0mlgq604hqjt00000gn/T/tmp2_9z834f/model.ckpt.\n",
      "INFO:tensorflow:loss = 18.659616, step = 1\n",
      "INFO:tensorflow:global_step/sec: 1.234\n",
      "INFO:tensorflow:loss = 1.4925414, step = 101 (81.038 sec)\n",
      "INFO:tensorflow:global_step/sec: 1.23329\n",
      "INFO:tensorflow:loss = 1.077649, step = 201 (81.084 sec)\n",
      "INFO:tensorflow:global_step/sec: 1.23544\n",
      "INFO:tensorflow:loss = 0.1891148, step = 301 (80.942 sec)\n",
      "INFO:tensorflow:global_step/sec: 1.23567\n",
      "INFO:tensorflow:loss = 0.017010938, step = 401 (80.928 sec)\n",
      "INFO:tensorflow:global_step/sec: 1.23584\n",
      "INFO:tensorflow:loss = 0.061777625, step = 501 (80.917 sec)\n",
      "INFO:tensorflow:global_step/sec: 1.23512\n",
      "INFO:tensorflow:loss = 0.07509494, step = 601 (80.964 sec)\n",
      "INFO:tensorflow:global_step/sec: 1.23245\n",
      "INFO:tensorflow:loss = 0.05963284, step = 701 (81.140 sec)\n",
      "INFO:tensorflow:Saving checkpoints for 741 into /var/folders/jl/pc72bld16gn0mlgq604hqjt00000gn/T/tmp2_9z834f/model.ckpt.\n",
      "INFO:tensorflow:global_step/sec: 1.22724\n",
      "INFO:tensorflow:loss = 0.011274662, step = 801 (81.483 sec)\n",
      "INFO:tensorflow:global_step/sec: 1.23587\n",
      "INFO:tensorflow:loss = 0.027321177, step = 901 (80.914 sec)\n",
      "INFO:tensorflow:global_step/sec: 1.23419\n",
      "INFO:tensorflow:loss = 0.0014937422, step = 1001 (81.025 sec)\n",
      "INFO:tensorflow:global_step/sec: 1.23272\n",
      "INFO:tensorflow:loss = 0.0039837146, step = 1101 (81.121 sec)\n",
      "INFO:tensorflow:global_step/sec: 1.23292\n",
      "INFO:tensorflow:loss = 0.015463159, step = 1201 (81.109 sec)\n",
      "INFO:tensorflow:global_step/sec: 1.23293\n",
      "INFO:tensorflow:loss = 0.07464698, step = 1301 (81.107 sec)\n",
      "INFO:tensorflow:global_step/sec: 1.23345\n",
      "INFO:tensorflow:loss = 0.01664975, step = 1401 (81.073 sec)\n",
      "INFO:tensorflow:Saving checkpoints for 1481 into /var/folders/jl/pc72bld16gn0mlgq604hqjt00000gn/T/tmp2_9z834f/model.ckpt.\n",
      "INFO:tensorflow:global_step/sec: 1.22028\n",
      "INFO:tensorflow:loss = 0.0019400589, step = 1501 (81.949 sec)\n",
      "INFO:tensorflow:global_step/sec: 1.21535\n",
      "INFO:tensorflow:loss = 0.000817884, step = 1601 (82.282 sec)\n",
      "INFO:tensorflow:global_step/sec: 1.21688\n",
      "INFO:tensorflow:loss = 0.0062440624, step = 1701 (82.176 sec)\n",
      "INFO:tensorflow:global_step/sec: 1.22089\n",
      "INFO:tensorflow:loss = 0.0026000713, step = 1801 (81.909 sec)\n",
      "INFO:tensorflow:global_step/sec: 1.21457\n",
      "INFO:tensorflow:loss = 0.006547178, step = 1901 (82.332 sec)\n",
      "INFO:tensorflow:Saving checkpoints for 2000 into /var/folders/jl/pc72bld16gn0mlgq604hqjt00000gn/T/tmp2_9z834f/model.ckpt.\n",
      "INFO:tensorflow:Loss for final step: 0.057084702.\n",
      "INFO:tensorflow:Calling model_fn.\n",
      "INFO:tensorflow:Done calling model_fn.\n",
      "INFO:tensorflow:Starting evaluation at 2018-09-28-08:44:26\n",
      "INFO:tensorflow:Graph was finalized.\n",
      "INFO:tensorflow:Restoring parameters from /var/folders/jl/pc72bld16gn0mlgq604hqjt00000gn/T/tmp2_9z834f/model.ckpt-2000\n",
      "INFO:tensorflow:Running local_init_op.\n",
      "INFO:tensorflow:Done running local_init_op.\n",
      "INFO:tensorflow:Finished evaluation at 2018-09-28-08:44:28\n",
      "INFO:tensorflow:Saving dict for global step 2000: accuracy = 0.94, global_step = 2000, loss = 0.70035726\n",
      "INFO:tensorflow:Saving 'checkpoint_path' summary for global step 2000: /var/folders/jl/pc72bld16gn0mlgq604hqjt00000gn/T/tmp2_9z834f/model.ckpt-2000\n",
      "Testing Accuracy: 0.94\n"
     ]
    }
   ],
   "source": [
    "train(gray_train_data, gray_train_labels, gray_test_data, gray_test_labels)"
   ]
  },
  {
   "cell_type": "code",
   "execution_count": null,
   "metadata": {},
   "outputs": [],
   "source": []
  },
  {
   "cell_type": "code",
   "execution_count": 95,
   "metadata": {},
   "outputs": [
    {
     "data": {
      "text/plain": [
       "(<matplotlib.axes._subplots.AxesSubplot at 0x169f8d160>,\n",
       " <matplotlib.image.AxesImage at 0x16ab04e80>)"
      ]
     },
     "execution_count": 95,
     "metadata": {},
     "output_type": "execute_result"
    },
    {
     "data": {
      "image/png": "[encoded data removed]",
      "text/plain": [
       "<Figure size 432x288 with 3 Axes>"
      ]
     },
     "metadata": {
      "needs_background": "light"
     },
     "output_type": "display_data"
    }
   ],
   "source": [
    "# load the image from disk, convert it to grayscale, blur it,\n",
    "# and apply edge detection to reveal the outline of the pill\n",
    "ii=112\n",
    "ii=27\n",
    "gr = cv2.cvtColor(np.array(train_data[ii], dtype=np.uint8), cv2.COLOR_BGR2GRAY)\n",
    "gr = cv2.GaussianBlur(gr, (3, 3), 0)\n",
    "edged = cv2.Canny(gr, 100, 200)\n",
    "plt.subplot(131),plt.imshow(np.array(train_data[ii], dtype=np.uint8))\n",
    "plt.subplot(132),plt.imshow(gr)\n",
    "plt.subplot(133),plt.imshow(edged)"
   ]
  },
  {
   "cell_type": "code",
   "execution_count": 73,
   "metadata": {},
   "outputs": [],
   "source": [
    "edged_data = []\n",
    "for image in data:\n",
    "    gr = cv2.cvtColor(image, cv2.COLOR_BGR2GRAY)\n",
    "    gr = cv2.GaussianBlur(gr, (3, 3), 0)\n",
    "    edged = cv2.Canny(gr, 100, 200)\n",
    "    edged_data.append(np.dstack( ( image, edged) ) )"
   ]
  },
  {
   "cell_type": "code",
   "execution_count": 75,
   "metadata": {},
   "outputs": [],
   "source": [
    "# Split the data\n",
    "edged_train_data = np.array(edged_data[0:3500], dtype=np.float32)\n",
    "edged_test_data = np.array(edged_data[3500:], dtype=np.float32)\n",
    "edged_train_labels = np.array(labels[0:3500])\n",
    "edged_test_labels = np.array(labels[3500:])"
   ]
  },
  {
   "cell_type": "code",
   "execution_count": 76,
   "metadata": {},
   "outputs": [
    {
     "name": "stdout",
     "output_type": "stream",
     "text": [
      "INFO:tensorflow:Using default config.\n",
      "WARNING:tensorflow:Using temporary folder as model directory: /var/folders/jl/pc72bld16gn0mlgq604hqjt00000gn/T/tmp9s74px2y\n",
      "INFO:tensorflow:Using config: {'_model_dir': '/var/folders/jl/pc72bld16gn0mlgq604hqjt00000gn/T/tmp9s74px2y', '_tf_random_seed': None, '_save_summary_steps': 100, '_save_checkpoints_steps': None, '_save_checkpoints_secs': 600, '_session_config': allow_soft_placement: true\n",
      "graph_options {\n",
      "  rewrite_options {\n",
      "    meta_optimizer_iterations: ONE\n",
      "  }\n",
      "}\n",
      ", '_keep_checkpoint_max': 5, '_keep_checkpoint_every_n_hours': 10000, '_log_step_count_steps': 100, '_train_distribute': None, '_device_fn': None, '_protocol': None, '_eval_distribute': None, '_experimental_distribute': None, '_service': None, '_cluster_spec': <tensorflow.python.training.server_lib.ClusterSpec object at 0x16a3f89b0>, '_task_type': 'worker', '_task_id': 0, '_global_id_in_cluster': 0, '_master': '', '_evaluation_master': '', '_is_chief': True, '_num_ps_replicas': 0, '_num_worker_replicas': 1}\n",
      "INFO:tensorflow:Calling model_fn.\n",
      "INFO:tensorflow:Done calling model_fn.\n",
      "INFO:tensorflow:Create CheckpointSaverHook.\n",
      "INFO:tensorflow:Graph was finalized.\n",
      "INFO:tensorflow:Running local_init_op.\n",
      "INFO:tensorflow:Done running local_init_op.\n",
      "INFO:tensorflow:Saving checkpoints for 0 into /var/folders/jl/pc72bld16gn0mlgq604hqjt00000gn/T/tmp9s74px2y/model.ckpt.\n",
      "INFO:tensorflow:loss = 30.943115, step = 1\n",
      "INFO:tensorflow:global_step/sec: 1.12113\n",
      "INFO:tensorflow:loss = 0.4807799, step = 101 (89.197 sec)\n",
      "INFO:tensorflow:global_step/sec: 1.11669\n",
      "INFO:tensorflow:loss = 0.107488856, step = 201 (89.551 sec)\n",
      "INFO:tensorflow:global_step/sec: 1.11942\n",
      "INFO:tensorflow:loss = 0.03820835, step = 301 (89.331 sec)\n",
      "INFO:tensorflow:global_step/sec: 1.11816\n",
      "INFO:tensorflow:loss = 0.028821943, step = 401 (89.432 sec)\n",
      "INFO:tensorflow:global_step/sec: 1.09363\n",
      "INFO:tensorflow:loss = 0.00865076, step = 501 (91.439 sec)\n",
      "INFO:tensorflow:global_step/sec: 1.02586\n",
      "INFO:tensorflow:loss = 0.0057159965, step = 601 (97.480 sec)\n",
      "INFO:tensorflow:Saving checkpoints for 653 into /var/folders/jl/pc72bld16gn0mlgq604hqjt00000gn/T/tmp9s74px2y/model.ckpt.\n",
      "INFO:tensorflow:global_step/sec: 1.04073\n",
      "INFO:tensorflow:loss = 0.0060591055, step = 701 (96.085 sec)\n",
      "INFO:tensorflow:global_step/sec: 1.13537\n",
      "INFO:tensorflow:loss = 0.010602215, step = 801 (88.077 sec)\n",
      "INFO:tensorflow:global_step/sec: 1.13023\n",
      "INFO:tensorflow:loss = 0.010033691, step = 901 (88.478 sec)\n",
      "INFO:tensorflow:global_step/sec: 1.13131\n",
      "INFO:tensorflow:loss = 0.008734647, step = 1001 (88.394 sec)\n",
      "INFO:tensorflow:global_step/sec: 1.13759\n",
      "INFO:tensorflow:loss = 0.007905277, step = 1101 (87.904 sec)\n",
      "INFO:tensorflow:global_step/sec: 1.1374\n",
      "INFO:tensorflow:loss = 0.02827935, step = 1201 (87.921 sec)\n",
      "INFO:tensorflow:global_step/sec: 1.1367\n",
      "INFO:tensorflow:loss = 0.0017595047, step = 1301 (87.974 sec)\n",
      "INFO:tensorflow:Saving checkpoints for 1333 into /var/folders/jl/pc72bld16gn0mlgq604hqjt00000gn/T/tmp9s74px2y/model.ckpt.\n",
      "INFO:tensorflow:global_step/sec: 1.13205\n",
      "INFO:tensorflow:loss = 0.033136647, step = 1401 (88.337 sec)\n",
      "INFO:tensorflow:global_step/sec: 1.13617\n",
      "INFO:tensorflow:loss = 0.012837468, step = 1501 (88.014 sec)\n",
      "INFO:tensorflow:global_step/sec: 1.1316\n",
      "INFO:tensorflow:loss = 0.0012772717, step = 1601 (88.371 sec)\n",
      "INFO:tensorflow:global_step/sec: 1.11895\n",
      "INFO:tensorflow:loss = 0.0016104805, step = 1701 (89.369 sec)\n",
      "INFO:tensorflow:global_step/sec: 1.13303\n",
      "INFO:tensorflow:loss = 0.0015553993, step = 1801 (88.261 sec)\n",
      "INFO:tensorflow:global_step/sec: 1.1336\n",
      "INFO:tensorflow:loss = 0.00024117931, step = 1901 (88.212 sec)\n",
      "INFO:tensorflow:Saving checkpoints for 2000 into /var/folders/jl/pc72bld16gn0mlgq604hqjt00000gn/T/tmp9s74px2y/model.ckpt.\n",
      "INFO:tensorflow:Loss for final step: 0.00048974936.\n",
      "INFO:tensorflow:Calling model_fn.\n",
      "INFO:tensorflow:Done calling model_fn.\n",
      "INFO:tensorflow:Starting evaluation at 2018-09-28-14:04:44\n",
      "INFO:tensorflow:Graph was finalized.\n",
      "INFO:tensorflow:Restoring parameters from /var/folders/jl/pc72bld16gn0mlgq604hqjt00000gn/T/tmp9s74px2y/model.ckpt-2000\n",
      "INFO:tensorflow:Running local_init_op.\n",
      "INFO:tensorflow:Done running local_init_op.\n",
      "INFO:tensorflow:Finished evaluation at 2018-09-28-14:04:46\n",
      "INFO:tensorflow:Saving dict for global step 2000: accuracy = 0.95, global_step = 2000, loss = 0.7179682\n",
      "INFO:tensorflow:Saving 'checkpoint_path' summary for global step 2000: /var/folders/jl/pc72bld16gn0mlgq604hqjt00000gn/T/tmp9s74px2y/model.ckpt-2000\n",
      "Testing Accuracy: 0.95\n"
     ]
    }
   ],
   "source": [
    "train(edged_train_data, edged_train_labels, edged_test_data, edged_test_labels)"
   ]
  },
  {
   "cell_type": "code",
   "execution_count": 82,
   "metadata": {},
   "outputs": [],
   "source": [
    "just_edged_data = []\n",
    "for image in data:\n",
    "    gr = cv2.cvtColor(image, cv2.COLOR_BGR2GRAY)\n",
    "    gr = cv2.GaussianBlur(gr, (3, 3), 0)\n",
    "    edged = cv2.Canny(gr, 100, 200)\n",
    "    just_edged_data.append(edged)"
   ]
  },
  {
   "cell_type": "code",
   "execution_count": 86,
   "metadata": {},
   "outputs": [],
   "source": [
    "# Split the data\n",
    "just_edged_train_data = np.array(just_edged_data[0:3500], dtype=np.float32).reshape([3500,80,80,1])\n",
    "just_edged_test_data = np.array(just_edged_data[3500:], dtype=np.float32).reshape([500,80,80,1])\n",
    "just_edged_train_labels = np.array(labels[0:3500])\n",
    "just_edged_test_labels = np.array(labels[3500:])"
   ]
  },
  {
   "cell_type": "code",
   "execution_count": 87,
   "metadata": {},
   "outputs": [
    {
     "name": "stdout",
     "output_type": "stream",
     "text": [
      "INFO:tensorflow:Using default config.\n",
      "WARNING:tensorflow:Using temporary folder as model directory: /var/folders/jl/pc72bld16gn0mlgq604hqjt00000gn/T/tmprnph2e1n\n",
      "INFO:tensorflow:Using config: {'_model_dir': '/var/folders/jl/pc72bld16gn0mlgq604hqjt00000gn/T/tmprnph2e1n', '_tf_random_seed': None, '_save_summary_steps': 100, '_save_checkpoints_steps': None, '_save_checkpoints_secs': 600, '_session_config': allow_soft_placement: true\n",
      "graph_options {\n",
      "  rewrite_options {\n",
      "    meta_optimizer_iterations: ONE\n",
      "  }\n",
      "}\n",
      ", '_keep_checkpoint_max': 5, '_keep_checkpoint_every_n_hours': 10000, '_log_step_count_steps': 100, '_train_distribute': None, '_device_fn': None, '_protocol': None, '_eval_distribute': None, '_experimental_distribute': None, '_service': None, '_cluster_spec': <tensorflow.python.training.server_lib.ClusterSpec object at 0x16a65a588>, '_task_type': 'worker', '_task_id': 0, '_global_id_in_cluster': 0, '_master': '', '_evaluation_master': '', '_is_chief': True, '_num_ps_replicas': 0, '_num_worker_replicas': 1}\n",
      "INFO:tensorflow:Calling model_fn.\n",
      "INFO:tensorflow:Done calling model_fn.\n",
      "INFO:tensorflow:Create CheckpointSaverHook.\n",
      "INFO:tensorflow:Graph was finalized.\n",
      "INFO:tensorflow:Running local_init_op.\n",
      "INFO:tensorflow:Done running local_init_op.\n",
      "INFO:tensorflow:Saving checkpoints for 0 into /var/folders/jl/pc72bld16gn0mlgq604hqjt00000gn/T/tmprnph2e1n/model.ckpt.\n",
      "INFO:tensorflow:loss = 13.039123, step = 1\n",
      "INFO:tensorflow:global_step/sec: 1.4352\n",
      "INFO:tensorflow:loss = 0.38175347, step = 101 (69.678 sec)\n",
      "INFO:tensorflow:global_step/sec: 1.45829\n",
      "INFO:tensorflow:loss = 0.024466502, step = 201 (68.574 sec)\n",
      "INFO:tensorflow:global_step/sec: 1.44475\n",
      "INFO:tensorflow:loss = 0.013944905, step = 301 (69.216 sec)\n",
      "INFO:tensorflow:global_step/sec: 1.44421\n",
      "INFO:tensorflow:loss = 0.038225934, step = 401 (69.242 sec)\n",
      "INFO:tensorflow:global_step/sec: 1.4491\n",
      "INFO:tensorflow:loss = 0.0068523623, step = 501 (69.008 sec)\n",
      "INFO:tensorflow:global_step/sec: 1.45204\n",
      "INFO:tensorflow:loss = 0.0028628267, step = 601 (68.869 sec)\n",
      "INFO:tensorflow:global_step/sec: 1.44689\n",
      "INFO:tensorflow:loss = 0.0042792354, step = 701 (69.113 sec)\n",
      "INFO:tensorflow:global_step/sec: 1.45339\n",
      "INFO:tensorflow:loss = 0.0025585273, step = 801 (68.805 sec)\n",
      "INFO:tensorflow:Saving checkpoints for 869 into /var/folders/jl/pc72bld16gn0mlgq604hqjt00000gn/T/tmprnph2e1n/model.ckpt.\n",
      "INFO:tensorflow:global_step/sec: 1.43265\n",
      "INFO:tensorflow:loss = 0.0025623147, step = 901 (69.800 sec)\n",
      "INFO:tensorflow:global_step/sec: 1.44528\n",
      "INFO:tensorflow:loss = 0.0020161856, step = 1001 (69.196 sec)\n",
      "INFO:tensorflow:global_step/sec: 1.44499\n",
      "INFO:tensorflow:loss = 0.0019284053, step = 1101 (69.199 sec)\n",
      "INFO:tensorflow:global_step/sec: 1.44457\n",
      "INFO:tensorflow:loss = 0.037058372, step = 1201 (69.225 sec)\n",
      "INFO:tensorflow:global_step/sec: 1.46926\n",
      "INFO:tensorflow:loss = 0.0022949306, step = 1301 (68.061 sec)\n",
      "INFO:tensorflow:global_step/sec: 1.46999\n",
      "INFO:tensorflow:loss = 0.0015651962, step = 1401 (68.028 sec)\n",
      "INFO:tensorflow:global_step/sec: 1.45741\n",
      "INFO:tensorflow:loss = 0.0012808202, step = 1501 (68.615 sec)\n",
      "INFO:tensorflow:global_step/sec: 1.4573\n",
      "INFO:tensorflow:loss = 0.0020078754, step = 1601 (68.620 sec)\n",
      "INFO:tensorflow:global_step/sec: 1.45275\n",
      "INFO:tensorflow:loss = 0.0013227528, step = 1701 (68.835 sec)\n",
      "INFO:tensorflow:Saving checkpoints for 1742 into /var/folders/jl/pc72bld16gn0mlgq604hqjt00000gn/T/tmprnph2e1n/model.ckpt.\n",
      "INFO:tensorflow:global_step/sec: 1.44377\n",
      "INFO:tensorflow:loss = 0.0015255997, step = 1801 (69.263 sec)\n",
      "INFO:tensorflow:global_step/sec: 1.44287\n",
      "INFO:tensorflow:loss = 0.040838324, step = 1901 (69.306 sec)\n",
      "INFO:tensorflow:Saving checkpoints for 2000 into /var/folders/jl/pc72bld16gn0mlgq604hqjt00000gn/T/tmprnph2e1n/model.ckpt.\n",
      "INFO:tensorflow:Loss for final step: 0.000823731.\n",
      "INFO:tensorflow:Calling model_fn.\n",
      "INFO:tensorflow:Done calling model_fn.\n",
      "INFO:tensorflow:Starting evaluation at 2018-09-28-14:46:18\n",
      "INFO:tensorflow:Graph was finalized.\n",
      "INFO:tensorflow:Restoring parameters from /var/folders/jl/pc72bld16gn0mlgq604hqjt00000gn/T/tmprnph2e1n/model.ckpt-2000\n",
      "INFO:tensorflow:Running local_init_op.\n",
      "INFO:tensorflow:Done running local_init_op.\n",
      "INFO:tensorflow:Finished evaluation at 2018-09-28-14:46:19\n",
      "INFO:tensorflow:Saving dict for global step 2000: accuracy = 0.952, global_step = 2000, loss = 0.33191442\n",
      "INFO:tensorflow:Saving 'checkpoint_path' summary for global step 2000: /var/folders/jl/pc72bld16gn0mlgq604hqjt00000gn/T/tmprnph2e1n/model.ckpt-2000\n",
      "Testing Accuracy: 0.952\n"
     ]
    }
   ],
   "source": [
    "train(just_edged_train_data, just_edged_train_labels, just_edged_test_data, just_edged_test_labels)"
   ]
  },
  {
   "cell_type": "code",
   "execution_count": 105,
   "metadata": {},
   "outputs": [],
   "source": [
    "rot45_data = []\n",
    "rows,cols = 80,80\n",
    "M = cv2.getRotationMatrix2D((cols/2,rows/2),45,1)\n",
    "\n",
    "for image,lb in zip(train_data,train_labels):\n",
    "    dst = cv2.warpAffine(image,M,(cols,rows))\n",
    "    rot45_data.append(dst)"
   ]
  },
  {
   "cell_type": "code",
   "execution_count": 108,
   "metadata": {},
   "outputs": [
    {
     "data": {
      "text/plain": [
       "<matplotlib.image.AxesImage at 0x13e75b908>"
      ]
     },
     "execution_count": 108,
     "metadata": {},
     "output_type": "execute_result"
    },
    {
     "data": {
      "image/png": "[encoded data removed]",
      "text/plain": [
       "<Figure size 432x288 with 1 Axes>"
      ]
     },
     "metadata": {
      "needs_background": "light"
     },
     "output_type": "display_data"
    }
   ],
   "source": [
    "plt.imshow(np.array(rot45_data[6], dtype=np.uint8))"
   ]
  },
  {
   "cell_type": "code",
   "execution_count": 109,
   "metadata": {},
   "outputs": [
    {
     "name": "stdout",
     "output_type": "stream",
     "text": [
      "(7000, 80, 80, 3)\n"
     ]
    }
   ],
   "source": [
    "doub_data = np.concatenate((rot45_data,train_data))\n",
    "print(doub_data.shape)"
   ]
  },
  {
   "cell_type": "code",
   "execution_count": 123,
   "metadata": {},
   "outputs": [],
   "source": [
    "zdata = list(zip(doub_data,np.concatenate((train_labels,train_labels))))\n",
    "random.shuffle(zdata)\n",
    "doub_data, doub_labels = zip(*zdata)"
   ]
  },
  {
   "cell_type": "code",
   "execution_count": 124,
   "metadata": {},
   "outputs": [],
   "source": [
    "train_doub_data = np.array(doub_data, dtype=np.float32)"
   ]
  },
  {
   "cell_type": "code",
   "execution_count": 125,
   "metadata": {},
   "outputs": [],
   "source": [
    "# Training Parameters\n",
    "learning_rate = 0.001\n",
    "num_steps = 4000\n",
    "batch_size = 128\n",
    "\n",
    "# Network Parameters\n",
    "num_input = 8000 \n",
    "num_classes = 2\n",
    "dropout = 0.4"
   ]
  },
  {
   "cell_type": "code",
   "execution_count": 126,
   "metadata": {},
   "outputs": [
    {
     "name": "stdout",
     "output_type": "stream",
     "text": [
      "INFO:tensorflow:Using default config.\n",
      "WARNING:tensorflow:Using temporary folder as model directory: /var/folders/jl/pc72bld16gn0mlgq604hqjt00000gn/T/tmpy_3s69cm\n",
      "INFO:tensorflow:Using config: {'_model_dir': '/var/folders/jl/pc72bld16gn0mlgq604hqjt00000gn/T/tmpy_3s69cm', '_tf_random_seed': None, '_save_summary_steps': 100, '_save_checkpoints_steps': None, '_save_checkpoints_secs': 600, '_session_config': allow_soft_placement: true\n",
      "graph_options {\n",
      "  rewrite_options {\n",
      "    meta_optimizer_iterations: ONE\n",
      "  }\n",
      "}\n",
      ", '_keep_checkpoint_max': 5, '_keep_checkpoint_every_n_hours': 10000, '_log_step_count_steps': 100, '_train_distribute': None, '_device_fn': None, '_protocol': None, '_eval_distribute': None, '_experimental_distribute': None, '_service': None, '_cluster_spec': <tensorflow.python.training.server_lib.ClusterSpec object at 0x16ad9c240>, '_task_type': 'worker', '_task_id': 0, '_global_id_in_cluster': 0, '_master': '', '_evaluation_master': '', '_is_chief': True, '_num_ps_replicas': 0, '_num_worker_replicas': 1}\n",
      "INFO:tensorflow:Calling model_fn.\n",
      "INFO:tensorflow:Done calling model_fn.\n",
      "INFO:tensorflow:Create CheckpointSaverHook.\n",
      "INFO:tensorflow:Graph was finalized.\n",
      "INFO:tensorflow:Running local_init_op.\n",
      "INFO:tensorflow:Done running local_init_op.\n",
      "INFO:tensorflow:Saving checkpoints for 0 into /var/folders/jl/pc72bld16gn0mlgq604hqjt00000gn/T/tmpy_3s69cm/model.ckpt.\n",
      "INFO:tensorflow:loss = 19.994543, step = 1\n",
      "INFO:tensorflow:global_step/sec: 1.1964\n",
      "INFO:tensorflow:loss = 0.6583008, step = 101 (83.585 sec)\n",
      "INFO:tensorflow:global_step/sec: 1.20707\n",
      "INFO:tensorflow:loss = 0.56785756, step = 201 (82.846 sec)\n",
      "INFO:tensorflow:global_step/sec: 1.20058\n",
      "INFO:tensorflow:loss = 0.53148466, step = 301 (83.292 sec)\n",
      "INFO:tensorflow:global_step/sec: 1.20387\n",
      "INFO:tensorflow:loss = 0.53440094, step = 401 (83.067 sec)\n",
      "INFO:tensorflow:global_step/sec: 1.20921\n",
      "INFO:tensorflow:loss = 0.5627629, step = 501 (82.697 sec)\n",
      "INFO:tensorflow:global_step/sec: 1.20905\n",
      "INFO:tensorflow:loss = 0.6023745, step = 601 (82.713 sec)\n",
      "INFO:tensorflow:global_step/sec: 1.20729\n",
      "INFO:tensorflow:loss = 0.6113465, step = 701 (82.827 sec)\n",
      "INFO:tensorflow:Saving checkpoints for 723 into /var/folders/jl/pc72bld16gn0mlgq604hqjt00000gn/T/tmpy_3s69cm/model.ckpt.\n",
      "INFO:tensorflow:global_step/sec: 1.18115\n",
      "INFO:tensorflow:loss = 0.5759558, step = 801 (84.665 sec)\n",
      "INFO:tensorflow:global_step/sec: 1.20573\n",
      "INFO:tensorflow:loss = 0.6049114, step = 901 (82.935 sec)\n",
      "INFO:tensorflow:global_step/sec: 1.19631\n",
      "INFO:tensorflow:loss = 0.5370184, step = 1001 (83.591 sec)\n",
      "INFO:tensorflow:global_step/sec: 1.1951\n",
      "INFO:tensorflow:loss = 0.5477166, step = 1101 (83.675 sec)\n",
      "INFO:tensorflow:global_step/sec: 1.1851\n",
      "INFO:tensorflow:loss = 0.6001437, step = 1201 (84.382 sec)\n",
      "INFO:tensorflow:global_step/sec: 1.17531\n",
      "INFO:tensorflow:loss = 0.53765154, step = 1301 (85.082 sec)\n",
      "INFO:tensorflow:global_step/sec: 1.17369\n",
      "INFO:tensorflow:loss = 0.5515296, step = 1401 (85.202 sec)\n",
      "INFO:tensorflow:Saving checkpoints for 1436 into /var/folders/jl/pc72bld16gn0mlgq604hqjt00000gn/T/tmpy_3s69cm/model.ckpt.\n",
      "INFO:tensorflow:global_step/sec: 1.17968\n",
      "INFO:tensorflow:loss = 0.51588213, step = 1501 (84.768 sec)\n",
      "INFO:tensorflow:global_step/sec: 1.18701\n",
      "INFO:tensorflow:loss = 0.49787417, step = 1601 (84.246 sec)\n",
      "INFO:tensorflow:global_step/sec: 1.20553\n",
      "INFO:tensorflow:loss = 0.5322981, step = 1701 (82.950 sec)\n",
      "INFO:tensorflow:global_step/sec: 1.2132\n",
      "INFO:tensorflow:loss = 0.5579996, step = 1801 (82.428 sec)\n",
      "INFO:tensorflow:global_step/sec: 1.19817\n",
      "INFO:tensorflow:loss = 0.52919406, step = 1901 (83.460 sec)\n",
      "INFO:tensorflow:global_step/sec: 1.20624\n",
      "INFO:tensorflow:loss = 0.6155081, step = 2001 (82.903 sec)\n",
      "INFO:tensorflow:global_step/sec: 1.2052\n",
      "INFO:tensorflow:loss = 0.5947688, step = 2101 (82.973 sec)\n",
      "INFO:tensorflow:Saving checkpoints for 2157 into /var/folders/jl/pc72bld16gn0mlgq604hqjt00000gn/T/tmpy_3s69cm/model.ckpt.\n",
      "INFO:tensorflow:global_step/sec: 1.19634\n",
      "INFO:tensorflow:loss = 0.5253128, step = 2201 (83.588 sec)\n",
      "INFO:tensorflow:global_step/sec: 1.22018\n",
      "INFO:tensorflow:loss = 0.552371, step = 2301 (81.955 sec)\n",
      "INFO:tensorflow:global_step/sec: 1.22101\n",
      "INFO:tensorflow:loss = 0.48873845, step = 2401 (81.900 sec)\n",
      "INFO:tensorflow:global_step/sec: 1.20268\n",
      "INFO:tensorflow:loss = 0.6393739, step = 2501 (83.147 sec)\n",
      "INFO:tensorflow:global_step/sec: 1.20414\n",
      "INFO:tensorflow:loss = 0.52309257, step = 2601 (83.046 sec)\n",
      "INFO:tensorflow:global_step/sec: 1.19926\n",
      "INFO:tensorflow:loss = 0.47826698, step = 2701 (83.386 sec)\n",
      "INFO:tensorflow:global_step/sec: 1.1921\n",
      "INFO:tensorflow:loss = 0.5660544, step = 2801 (83.885 sec)\n",
      "INFO:tensorflow:Saving checkpoints for 2880 into /var/folders/jl/pc72bld16gn0mlgq604hqjt00000gn/T/tmpy_3s69cm/model.ckpt.\n",
      "INFO:tensorflow:global_step/sec: 1.19315\n",
      "INFO:tensorflow:loss = 0.58644974, step = 2901 (83.811 sec)\n",
      "INFO:tensorflow:global_step/sec: 1.19781\n",
      "INFO:tensorflow:loss = 0.5474411, step = 3001 (83.485 sec)\n",
      "INFO:tensorflow:global_step/sec: 1.182\n",
      "INFO:tensorflow:loss = 0.5562946, step = 3101 (84.603 sec)\n",
      "INFO:tensorflow:global_step/sec: 1.18065\n",
      "INFO:tensorflow:loss = 0.53116363, step = 3201 (84.700 sec)\n",
      "INFO:tensorflow:global_step/sec: 1.18714\n",
      "INFO:tensorflow:loss = 0.58520794, step = 3301 (84.235 sec)\n",
      "INFO:tensorflow:global_step/sec: 0.86965\n",
      "INFO:tensorflow:loss = 0.51205, step = 3401 (114.990 sec)\n",
      "INFO:tensorflow:global_step/sec: 0.999857\n",
      "INFO:tensorflow:loss = 0.51045465, step = 3501 (100.013 sec)\n",
      "INFO:tensorflow:Saving checkpoints for 3536 into /var/folders/jl/pc72bld16gn0mlgq604hqjt00000gn/T/tmpy_3s69cm/model.ckpt.\n",
      "INFO:tensorflow:global_step/sec: 1.1546\n",
      "INFO:tensorflow:loss = 0.67128557, step = 3601 (86.610 sec)\n",
      "INFO:tensorflow:global_step/sec: 1.17403\n",
      "INFO:tensorflow:loss = 0.5388404, step = 3701 (85.178 sec)\n",
      "INFO:tensorflow:global_step/sec: 1.18543\n",
      "INFO:tensorflow:loss = 0.5707917, step = 3801 (84.356 sec)\n",
      "INFO:tensorflow:global_step/sec: 1.17417\n",
      "INFO:tensorflow:loss = 0.5682835, step = 3901 (85.167 sec)\n",
      "INFO:tensorflow:Saving checkpoints for 4000 into /var/folders/jl/pc72bld16gn0mlgq604hqjt00000gn/T/tmpy_3s69cm/model.ckpt.\n",
      "INFO:tensorflow:Loss for final step: 0.569769.\n",
      "INFO:tensorflow:Calling model_fn.\n",
      "INFO:tensorflow:Done calling model_fn.\n",
      "INFO:tensorflow:Starting evaluation at 2018-09-28-16:44:39\n",
      "INFO:tensorflow:Graph was finalized.\n",
      "INFO:tensorflow:Restoring parameters from /var/folders/jl/pc72bld16gn0mlgq604hqjt00000gn/T/tmpy_3s69cm/model.ckpt-4000\n",
      "INFO:tensorflow:Running local_init_op.\n",
      "INFO:tensorflow:Done running local_init_op.\n",
      "INFO:tensorflow:Finished evaluation at 2018-09-28-16:44:41\n",
      "INFO:tensorflow:Saving dict for global step 4000: accuracy = 0.742, global_step = 4000, loss = 0.5726979\n",
      "INFO:tensorflow:Saving 'checkpoint_path' summary for global step 4000: /var/folders/jl/pc72bld16gn0mlgq604hqjt00000gn/T/tmpy_3s69cm/model.ckpt-4000\n",
      "Testing Accuracy: 0.742\n"
     ]
    }
   ],
   "source": [
    "train(train_doub_data,doub_labels, test_data, test_labels)"
   ]
  },
  {
   "cell_type": "code",
   "execution_count": null,
   "metadata": {},
   "outputs": [],
   "source": []
  },
  {
   "cell_type": "code",
   "execution_count": null,
   "metadata": {},
   "outputs": [],
   "source": []
  }
 ],
 "metadata": {
  "kernelspec": {
   "display_name": "py3.6(udea)",
   "language": "python",
   "name": "udea_env"
  },
  "language_info": {
   "codemirror_mode": {
    "name": "ipython",
    "version": 3
   },
   "file_extension": ".py",
   "mimetype": "text/x-python",
   "name": "python",
   "nbconvert_exporter": "python",
   "pygments_lexer": "ipython3",
   "version": "3.6.6"
  }
 },
 "nbformat": 4,
 "nbformat_minor": 2
}
