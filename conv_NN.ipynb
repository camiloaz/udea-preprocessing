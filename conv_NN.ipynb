{
 "cells": [
  {
   "cell_type": "markdown",
   "metadata": {},
   "source": [
    "# Preprocesamiento de imágenes para la industria"
   ]
  },
  {
   "cell_type": "markdown",
   "metadata": {},
   "source": [
    "Empezamos importando las librerías y cargando los datos de entrenamiento y de prueba:"
   ]
  },
  {
   "cell_type": "code",
   "execution_count": 1,
   "metadata": {},
   "outputs": [],
   "source": [
    "import json\n",
    "import matplotlib.pyplot as plt\n",
    "import numpy as np"
   ]
  },
  {
   "cell_type": "code",
   "execution_count": 2,
   "metadata": {},
   "outputs": [],
   "source": [
    "with open('./data/train_ships.json') as json_data:\n",
    "    train_d = json.load(json_data)"
   ]
  },
  {
   "cell_type": "code",
   "execution_count": 3,
   "metadata": {},
   "outputs": [],
   "source": [
    "with open('./data/test_ships.json') as json_data:\n",
    "    test_d = json.load(json_data)"
   ]
  },
  {
   "cell_type": "markdown",
   "metadata": {},
   "source": [
    "Ahora, cada una de las imágenes viene en una lista plana de tamaño 19200 que corresponde a una imagen de 80x80 y los 3 canales (RGB).\n",
    "Los primeros 6400 datos corresponden a el canal R, los siguientes 6400 al G y los últimos al B. Por esta razón debemos reformar la lista\n",
    "en algo que nuestro modelo pueda interpretar como imágenes."
   ]
  },
  {
   "cell_type": "code",
   "execution_count": 9,
   "metadata": {},
   "outputs": [],
   "source": [
    "def reshape_data(dictionary):\n",
    "    data = []\n",
    "    for fimg in dictionary['data']:\n",
    "        data.append(np.array([[fimg[ii],fimg[ii+6400],fimg[ii+12800]] for ii in range(6400)], dtype=np.uint8).reshape([80,80,3]))\n",
    "    return np.array(data, dtype=np.uint8), np.array(dictionary['labels'], dtype=np.uint8)"
   ]
  },
  {
   "cell_type": "code",
   "execution_count": 7,
   "metadata": {},
   "outputs": [],
   "source": [
    "train_images, train_labels = reshape_data(train_d)\n",
    "test_images, test_labels = reshape_data(test_d)"
   ]
  },
  {
   "cell_type": "code",
   "execution_count": 20,
   "metadata": {},
   "outputs": [
    {
     "name": "stdout",
     "output_type": "stream",
     "text": [
      "Esta imagen sí tiene un barco\n"
     ]
    },
    {
     "data": {
      "text/plain": [
       "<matplotlib.image.AxesImage at 0x142dae550>"
      ]
     },
     "execution_count": 20,
     "metadata": {},
     "output_type": "execute_result"
    },
    {
     "data": {
      "image/png": "[encoded data removed]",
      "text/plain": [
       "<Figure size 432x288 with 1 Axes>"
      ]
     },
     "metadata": {
      "needs_background": "light"
     },
     "output_type": "display_data"
    }
   ],
   "source": [
    "ii = 23\n",
    "print(f\"Esta imagen {'sí' if train_labels[ii] else 'no'} tiene un barco\")\n",
    "plt.imshow(train_images[ii])"
   ]
  },
  {
   "cell_type": "code",
   "execution_count": null,
   "metadata": {},
   "outputs": [],
   "source": [
    "# TODO: Acá realicen todas las transformaciones que quieran con las imágenes. Ya sea para cambiar el set de datos o para aumentarlo"
   ]
  },
  {
   "cell_type": "markdown",
   "metadata": {},
   "source": [
    "## Definición del modelo (CNN)"
   ]
  },
  {
   "cell_type": "code",
   "execution_count": 21,
   "metadata": {},
   "outputs": [],
   "source": [
    "import tensorflow as tf"
   ]
  },
  {
   "cell_type": "code",
   "execution_count": 22,
   "metadata": {},
   "outputs": [],
   "source": [
    "# Training Parameters\n",
    "learning_rate = 0.001\n",
    "num_steps = 2000\n",
    "batch_size = 128\n",
    "\n",
    "# Network Parameters\n",
    "#num_input = 4000 \n",
    "num_classes = 2\n",
    "dropout = 0.4"
   ]
  },
  {
   "cell_type": "code",
   "execution_count": 23,
   "metadata": {},
   "outputs": [],
   "source": [
    "# Create the neural network\n",
    "def conv_net(x_dict, n_classes, dropout, reuse, is_training):\n",
    "    # Define a scope for reusing the variables\n",
    "    with tf.variable_scope('ConvNet', reuse=reuse):\n",
    "        # TF Estimator input is a dict, in case of multiple inputs\n",
    "        x = x_dict['images']\n",
    "\n",
    "        # Convolution Layer with 32 filters and a kernel size of 5\n",
    "        conv1 = tf.layers.conv2d(x, 32, 5, activation=tf.nn.relu)\n",
    "        # Max Pooling (down-sampling) with strides of 2 and kernel size of 2\n",
    "        conv1 = tf.layers.max_pooling2d(conv1, 2, 2)\n",
    "\n",
    "        # Convolution Layer with 64 filters and a kernel size of 3\n",
    "        conv2 = tf.layers.conv2d(conv1, 64, 3, activation=tf.nn.relu)\n",
    "        # Max Pooling (down-sampling) with strides of 2 and kernel size of 2\n",
    "        conv2 = tf.layers.max_pooling2d(conv2, 2, 2)\n",
    "\n",
    "        # Flatten the data to a 1-D vector for the fully connected layer\n",
    "        fc1 = tf.contrib.layers.flatten(conv2)\n",
    "\n",
    "        # Fully connected layer (in tf contrib folder for now)\n",
    "        fc1 = tf.layers.dense(fc1, 1024)\n",
    "        # Apply Dropout (if is_training is False, dropout is not applied)\n",
    "        fc1 = tf.layers.dropout(fc1, rate=dropout, training=is_training)\n",
    "\n",
    "        # Output layer, class prediction\n",
    "        out = tf.layers.dense(fc1, n_classes)\n",
    "\n",
    "    return out"
   ]
  },
  {
   "cell_type": "code",
   "execution_count": 25,
   "metadata": {},
   "outputs": [],
   "source": [
    "# Define the model function (following TF Estimator Template)\n",
    "def model_fn(features, labels, mode):\n",
    "    # Build the neural network\n",
    "    # Because Dropout have different behavior at training and prediction time, we\n",
    "    # need to create 2 distinct computation graphs that still share the same weights.\n",
    "    logits_train = conv_net(features, num_classes, dropout, reuse=False,\n",
    "                            is_training=True)\n",
    "    logits_test = conv_net(features, num_classes, dropout, reuse=True,\n",
    "                           is_training=False)\n",
    "\n",
    "    # Predictions\n",
    "    pred_classes = tf.argmax(logits_test, axis=1)\n",
    "    pred_probas = tf.nn.softmax(logits_test)\n",
    "\n",
    "    # If prediction mode, early return\n",
    "    if mode == tf.estimator.ModeKeys.PREDICT:\n",
    "        return tf.estimator.EstimatorSpec(mode, predictions=pred_classes)\n",
    "\n",
    "        # Define loss and optimizer\n",
    "    loss_op = tf.reduce_mean(tf.nn.sparse_softmax_cross_entropy_with_logits(\n",
    "        logits=logits_train, labels=tf.cast(labels, dtype=tf.int32)))\n",
    "    optimizer = tf.train.AdamOptimizer(learning_rate=learning_rate)\n",
    "    train_op = optimizer.minimize(loss_op,\n",
    "                                  global_step=tf.train.get_global_step())\n",
    "\n",
    "    # Evaluate the accuracy of the model\n",
    "    acc_op = tf.metrics.accuracy(labels=labels, predictions=pred_classes)\n",
    "\n",
    "    # TF Estimators requires to return a EstimatorSpec, that specify\n",
    "    # the different ops for training, evaluating, ...\n",
    "    estim_specs = tf.estimator.EstimatorSpec(\n",
    "        mode=mode,\n",
    "        predictions=pred_classes,\n",
    "        loss=loss_op,\n",
    "        train_op=train_op,\n",
    "        eval_metric_ops={'accuracy': acc_op})\n",
    "\n",
    "    return estim_specs"
   ]
  },
  {
   "cell_type": "code",
   "execution_count": 26,
   "metadata": {},
   "outputs": [],
   "source": [
    "def train(train_data, train_labels, test_data, test_labels, num_steps=2000):\n",
    "    # Build the Estimator\n",
    "    model = tf.estimator.Estimator(model_fn)\n",
    "\n",
    "    # Define the input function for training\n",
    "    input_fn = tf.estimator.inputs.numpy_input_fn(\n",
    "        x={'images': train_data}, y=np.array(train_labels),\n",
    "        batch_size=batch_size, num_epochs=None, shuffle=True)\n",
    "    # Train the Model\n",
    "    model.train(input_fn, steps=num_steps)\n",
    "\n",
    "    # Evaluate the Model\n",
    "    # Define the input function for evaluating\n",
    "    input_fn = tf.estimator.inputs.numpy_input_fn(\n",
    "        x={'images': test_data}, y=test_labels,\n",
    "        batch_size=batch_size, shuffle=False)\n",
    "    # Use the Estimator 'evaluate' method\n",
    "    e = model.evaluate(input_fn)\n",
    "\n",
    "    print(\"Testing Accuracy:\", e['accuracy'])"
   ]
  },
  {
   "cell_type": "code",
   "execution_count": null,
   "metadata": {},
   "outputs": [
    {
     "name": "stdout",
     "output_type": "stream",
     "text": [
      "INFO:tensorflow:Using default config.\n",
      "WARNING:tensorflow:Using temporary folder as model directory: /var/folders/jl/pc72bld16gn0mlgq604hqjt00000gn/T/tmphcd0i8w4\n",
      "INFO:tensorflow:Using config: {'_model_dir': '/var/folders/jl/pc72bld16gn0mlgq604hqjt00000gn/T/tmphcd0i8w4', '_tf_random_seed': None, '_save_summary_steps': 100, '_save_checkpoints_steps': None, '_save_checkpoints_secs': 600, '_session_config': allow_soft_placement: true\n",
      "graph_options {\n",
      "  rewrite_options {\n",
      "    meta_optimizer_iterations: ONE\n",
      "  }\n",
      "}\n",
      ", '_keep_checkpoint_max': 5, '_keep_checkpoint_every_n_hours': 10000, '_log_step_count_steps': 100, '_train_distribute': None, '_device_fn': None, '_protocol': None, '_eval_distribute': None, '_experimental_distribute': None, '_service': None, '_cluster_spec': <tensorflow.python.training.server_lib.ClusterSpec object at 0x161bc9c88>, '_task_type': 'worker', '_task_id': 0, '_global_id_in_cluster': 0, '_master': '', '_evaluation_master': '', '_is_chief': True, '_num_ps_replicas': 0, '_num_worker_replicas': 1}\n",
      "INFO:tensorflow:Calling model_fn.\n",
      "INFO:tensorflow:Done calling model_fn.\n",
      "INFO:tensorflow:Create CheckpointSaverHook.\n",
      "INFO:tensorflow:Graph was finalized.\n",
      "INFO:tensorflow:Running local_init_op.\n",
      "INFO:tensorflow:Done running local_init_op.\n",
      "WARNING:tensorflow:From /Users/cz/Documents/classes/preprocessing/exercises/udea_env/lib/python3.6/site-packages/tensorflow/python/training/monitored_session.py:804: start_queue_runners (from tensorflow.python.training.queue_runner_impl) is deprecated and will be removed in a future version.\n",
      "Instructions for updating:\n",
      "To construct input pipelines, use the `tf.data` module.\n",
      "INFO:tensorflow:Saving checkpoints for 0 into /var/folders/jl/pc72bld16gn0mlgq604hqjt00000gn/T/tmphcd0i8w4/model.ckpt.\n",
      "INFO:tensorflow:loss = 42.92811, step = 1\n",
      "INFO:tensorflow:global_step/sec: 1.17769\n",
      "INFO:tensorflow:loss = 0.31646752, step = 101 (84.913 sec)\n",
      "INFO:tensorflow:global_step/sec: 1.176\n",
      "INFO:tensorflow:loss = 0.13946316, step = 201 (85.035 sec)\n",
      "INFO:tensorflow:global_step/sec: 1.18044\n",
      "INFO:tensorflow:loss = 0.11957973, step = 301 (84.714 sec)\n",
      "INFO:tensorflow:global_step/sec: 1.15018\n",
      "INFO:tensorflow:loss = 0.05781074, step = 401 (86.944 sec)\n",
      "INFO:tensorflow:global_step/sec: 1.13518\n",
      "INFO:tensorflow:loss = 0.049058758, step = 501 (88.091 sec)\n",
      "INFO:tensorflow:global_step/sec: 1.17215\n",
      "INFO:tensorflow:loss = 0.0403804, step = 601 (85.314 sec)\n",
      "INFO:tensorflow:Saving checkpoints for 700 into /var/folders/jl/pc72bld16gn0mlgq604hqjt00000gn/T/tmphcd0i8w4/model.ckpt.\n",
      "INFO:tensorflow:global_step/sec: 1.16539\n",
      "INFO:tensorflow:loss = 0.029570337, step = 701 (85.807 sec)\n",
      "INFO:tensorflow:global_step/sec: 1.15823\n",
      "INFO:tensorflow:loss = 0.07158366, step = 801 (86.339 sec)\n",
      "INFO:tensorflow:global_step/sec: 1.15453\n",
      "INFO:tensorflow:loss = 0.06357742, step = 901 (86.615 sec)\n",
      "INFO:tensorflow:global_step/sec: 1.16272\n",
      "INFO:tensorflow:loss = 0.021763233, step = 1001 (86.005 sec)\n",
      "INFO:tensorflow:global_step/sec: 1.15722\n",
      "INFO:tensorflow:loss = 0.023513004, step = 1101 (86.414 sec)\n",
      "INFO:tensorflow:global_step/sec: 1.12682\n",
      "INFO:tensorflow:loss = 0.0075202947, step = 1201 (88.745 sec)\n",
      "INFO:tensorflow:global_step/sec: 1.12189\n",
      "INFO:tensorflow:loss = 0.011511289, step = 1301 (89.135 sec)\n",
      "INFO:tensorflow:Saving checkpoints for 1388 into /var/folders/jl/pc72bld16gn0mlgq604hqjt00000gn/T/tmphcd0i8w4/model.ckpt.\n",
      "INFO:tensorflow:global_step/sec: 1.14903\n",
      "INFO:tensorflow:loss = 0.015324727, step = 1401 (87.029 sec)\n",
      "INFO:tensorflow:global_step/sec: 1.17202\n",
      "INFO:tensorflow:loss = 0.013559338, step = 1501 (85.323 sec)\n",
      "INFO:tensorflow:global_step/sec: 1.16553\n",
      "INFO:tensorflow:loss = 0.0034604236, step = 1601 (85.798 sec)\n",
      "INFO:tensorflow:global_step/sec: 1.17438\n",
      "INFO:tensorflow:loss = 0.02686616, step = 1701 (85.151 sec)\n",
      "INFO:tensorflow:global_step/sec: 1.16314\n",
      "INFO:tensorflow:loss = 0.029674238, step = 1801 (85.974 sec)\n",
      "INFO:tensorflow:global_step/sec: 1.18988\n",
      "INFO:tensorflow:loss = 0.0074413926, step = 1901 (84.042 sec)\n"
     ]
    }
   ],
   "source": [
    "train(np.array(train_images, dtype=np.float32), train_labels, np.array(test_images, dtype=np.float32), test_labels)"
   ]
  },
  {
   "cell_type": "code",
   "execution_count": null,
   "metadata": {},
   "outputs": [],
   "source": []
  }
 ],
 "metadata": {
  "kernelspec": {
   "display_name": "py3.6(udea)",
   "language": "python",
   "name": "udea_env"
  },
  "language_info": {
   "codemirror_mode": {
    "name": "ipython",
    "version": 3
   },
   "file_extension": ".py",
   "mimetype": "text/x-python",
   "name": "python",
   "nbconvert_exporter": "python",
   "pygments_lexer": "ipython3",
   "version": "3.6.6"
  }
 },
 "nbformat": 4,
 "nbformat_minor": 2
}
